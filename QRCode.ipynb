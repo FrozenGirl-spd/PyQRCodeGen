{
  "nbformat": 4,
  "nbformat_minor": 0,
  "metadata": {
    "colab": {
      "name": "QRCode.ipynb",
      "provenance": [],
      "authorship_tag": "ABX9TyOvIcOm9y+RY19zhoF1720N",
      "include_colab_link": true
    },
    "kernelspec": {
      "name": "python3",
      "display_name": "Python 3"
    }
  },
  "cells": [
    {
      "cell_type": "markdown",
      "metadata": {
        "id": "view-in-github",
        "colab_type": "text"
      },
      "source": [
        "<a href=\"https://colab.research.google.com/github/smaranjitghose/qrcodegenerator/blob/master/QRCode.ipynb\" target=\"_parent\"><img src=\"https://colab.research.google.com/assets/colab-badge.svg\" alt=\"Open In Colab\"/></a>"
      ]
    },
    {
      "cell_type": "code",
      "metadata": {
        "id": "iB5-EwYAOR5m",
        "colab_type": "code",
        "colab": {
          "base_uri": "https://localhost:8080/",
          "height": 51
        },
        "outputId": "ea92e9c0-9a77-4925-a03a-5ada7eca64a8"
      },
      "source": [
        "!pip install pyqrcode\n",
        "!pip install pypng\n"
      ],
      "execution_count": 9,
      "outputs": [
        {
          "output_type": "stream",
          "text": [
            "Requirement already satisfied: pyqrcode in /usr/local/lib/python3.6/dist-packages (1.2.1)\n",
            "Requirement already satisfied: pypng in /usr/local/lib/python3.6/dist-packages (0.0.20)\n"
          ],
          "name": "stdout"
        }
      ]
    },
    {
      "cell_type": "code",
      "metadata": {
        "id": "V6ICCY7YPfVq",
        "colab_type": "code",
        "colab": {}
      },
      "source": [
        "# Import QRCode from pyqrcode \n",
        "import pyqrcode \n",
        "from pyqrcode import QRCode \n",
        "  \n",
        "  \n",
        "# String which represent the QR code\n",
        "#For my use case its the link to the registration form of GirlScript Chennai \n",
        "s = \"https://docs.google.com/forms/u/1/d/1yQzHF-ypjdyoP3aZmajAWSOFJ3HB9_MBhUKHxRTCvVk/edit?usp=forms_home&ths=true\"\n",
        "  \n",
        "# Generate QR code \n",
        "url = pyqrcode.create(s) \n",
        "  \n",
        "# Create and save the png file naming \"registration.png\" \n",
        "url.svg(\"registration.svg\", scale = 10) "
      ],
      "execution_count": 0,
      "outputs": []
    },
    {
      "cell_type": "code",
      "metadata": {
        "id": "sHeVbKFuQWVS",
        "colab_type": "code",
        "colab": {}
      },
      "source": [
        ""
      ],
      "execution_count": 0,
      "outputs": []
    },
    {
      "cell_type": "code",
      "metadata": {
        "id": "v-tX2FW9UA3N",
        "colab_type": "code",
        "colab": {}
      },
      "source": [
        ""
      ],
      "execution_count": 0,
      "outputs": []
    }
  ]
}